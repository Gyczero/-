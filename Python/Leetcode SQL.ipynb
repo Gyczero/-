{
 "cells": [
  {
   "cell_type": "markdown",
   "metadata": {
    "nbpresent": {
     "id": "39a21049-64c1-4dbc-8bfa-51537e277b9a"
    }
   },
   "source": [
    "# 595 "
   ]
  },
  {
   "cell_type": "code",
   "execution_count": null,
   "metadata": {
    "collapsed": true,
    "nbpresent": {
     "id": "f38e9416-7699-4556-81d9-c86591964cd2"
    }
   },
   "outputs": [],
   "source": [
    "Select name, population, area FROM World\n",
    "where area > 3000000\n",
    "or population > 25000000"
   ]
  },
  {
   "cell_type": "markdown",
   "metadata": {
    "nbpresent": {
     "id": "d0466d07-1546-4f22-a8cf-ffbf2b0f1c8b"
    }
   },
   "source": [
    "# 627 Swap Salary"
   ]
  },
  {
   "cell_type": "code",
   "execution_count": 3,
   "metadata": {
    "collapsed": false,
    "nbpresent": {
     "id": "b3dc0166-dea8-4c12-bd54-727f09ae467e"
    }
   },
   "outputs": [],
   "source": [
    "Update salary  \n",
    "SET sex = \n",
    "case sex\n",
    "when 'f' then 'm'\n",
    "when 'm' then 'f'\n",
    "else '0' \n",
    "end "
   ]
  },
  {
   "cell_type": "markdown",
   "metadata": {
    "nbpresent": {
     "id": "1ad52237-5348-4d3f-98aa-ff50fc9e0e51"
    }
   },
   "source": [
    "# 620. Not Boring Movies"
   ]
  },
  {
   "cell_type": "code",
   "execution_count": null,
   "metadata": {
    "collapsed": true,
    "nbpresent": {
     "id": "eca68b63-a841-4eae-946c-533f097bd592"
    }
   },
   "outputs": [],
   "source": [
    "Select id, movie, description, rating\n",
    "from cinema\n",
    "where (id % 2) = 1\n",
    "and description != 'boring'\n",
    "order by rating DESC"
   ]
  },
  {
   "cell_type": "markdown",
   "metadata": {
    "nbpresent": {
     "id": "f1d97273-5239-442b-be19-b64da3471442"
    }
   },
   "source": [
    "# 626. Exchange Seats"
   ]
  },
  {
   "cell_type": "markdown",
   "metadata": {
    "nbpresent": {
     "id": "38f12352-063c-4447-bcd5-17425c8f53f1"
    }
   },
   "source": [
    "case 条件 if \n",
    "返回值\n",
    "\n",
    "一个表内部对比，交换。 子查询"
   ]
  },
  {
   "cell_type": "code",
   "execution_count": 7,
   "metadata": {
    "collapsed": false,
    "nbpresent": {
     "id": "f9660b0f-9cc3-4980-9118-f99e3a70a556"
    }
   },
   "outputs": [],
   "source": [
    "Select id, \n",
    "( case\n",
    "    when (id % 2) = 1 and id = (select max(id) from seat) then student\n",
    "    when (id % 2) = 0 then (select student from seat as p where p.id = o.id - 1)\n",
    "    ELSE (Select student from seat as q where q.id = o.id + 1)\n",
    "    End) as student\n",
    "from seat as o\n"
   ]
  },
  {
   "cell_type": "markdown",
   "metadata": {
    "nbpresent": {
     "id": "31e6ae06-973d-4631-8985-5017bd38ec3b"
    }
   },
   "source": [
    "# 182. Duplicate Emails"
   ]
  },
  {
   "cell_type": "code",
   "execution_count": null,
   "metadata": {
    "collapsed": true,
    "nbpresent": {
     "id": "fdef4750-59d4-4cb8-862c-e9816f1e94a4"
    }
   },
   "outputs": [],
   "source": [
    "Select Email from Person\n",
    "group by Email\n",
    "having count(Email) > 1"
   ]
  },
  {
   "cell_type": "markdown",
   "metadata": {
    "nbpresent": {
     "id": "01ce7092-e693-432e-8e51-2f04c36c7490"
    }
   },
   "source": [
    "# 175. Combine Two Tables"
   ]
  },
  {
   "cell_type": "code",
   "execution_count": null,
   "metadata": {
    "collapsed": true,
    "nbpresent": {
     "id": "0bf9b011-89e3-4198-bd77-59a905e3f0a4"
    }
   },
   "outputs": [],
   "source": [
    "Select FirstName, LastName, City, State\n",
    "from Person as a \n",
    "left join Address as b\n",
    "on a.PersonID = b.PersonID"
   ]
  },
  {
   "cell_type": "markdown",
   "metadata": {
    "nbpresent": {
     "id": "e4bec270-2324-4cb9-9c40-abddc3ea25e6"
    }
   },
   "source": [
    "# 181. Employees Earning More Than Their Managers"
   ]
  },
  {
   "cell_type": "code",
   "execution_count": null,
   "metadata": {
    "collapsed": true,
    "nbpresent": {
     "id": "1866eb11-4683-4e94-b461-ed6c50c90134"
    }
   },
   "outputs": [],
   "source": [
    "# Write your MySQL query statement below\n",
    "\n",
    "Select Name as Employee\n",
    "from Employee as a \n",
    "where a.Salary > \n",
    "(Select Salary from Employee as b\n",
    "                 where b.Id = a.ManagerId)"
   ]
  },
  {
   "cell_type": "markdown",
   "metadata": {
    "nbpresent": {
     "id": "e546fc59-56e2-4866-9749-9ecfd89f646d"
    }
   },
   "source": [
    "# 183. Customers Who Never Order"
   ]
  },
  {
   "cell_type": "code",
   "execution_count": null,
   "metadata": {
    "collapsed": true,
    "nbpresent": {
     "id": "60269702-f292-4ddf-befd-257cf0c11c62"
    }
   },
   "outputs": [],
   "source": [
    "Select Name as Customers \n",
    "from Customers  as a\n",
    "left join Orders as b\n",
    "on a.Id = b.CustomerId\n",
    "where b.Id is null"
   ]
  },
  {
   "cell_type": "markdown",
   "metadata": {
    "nbpresent": {
     "id": "6cbb013b-9c82-452a-b2c2-57ee94164d71"
    }
   },
   "source": [
    "# Human Traffic of Stadium"
   ]
  },
  {
   "cell_type": "markdown",
   "metadata": {
    "nbpresent": {
     "id": "4b629482-2276-401c-ba39-368f20366595"
    }
   },
   "source": [
    "一个表中连续几行  |  多表inner join\n",
    "\n",
    "inner join多个条件，on （） or/and "
   ]
  },
  {
   "cell_type": "code",
   "execution_count": null,
   "metadata": {
    "collapsed": true,
    "nbpresent": {
     "id": "3484ab7c-da2c-4f4c-80df-914f1c59a461"
    }
   },
   "outputs": [],
   "source": [
    "Select Distinct(s1.id), s1.date, s1.people from stadium as s1\n",
    "inner join stadium as s2\n",
    "inner join stadium as s3 \n",
    "on ( (s1.id = s2.id - 1) and (s1.id = s3.id - 2) )\n",
    "or ( (s1.id = s2.id + 1) and (s1.id = s3.id - 1) )\n",
    "or ( (s1.id = s2.id + 2) and (s1.id = s3.id + 1) )\n",
    "where s1.people >= 100\n",
    "and s2.people >= 100\n",
    "and s3.people >= 100\n",
    "order by s1.id ASC"
   ]
  },
  {
   "cell_type": "markdown",
   "metadata": {
    "nbpresent": {
     "id": "51f1df34-77f5-4f00-b2d2-d223155790a0"
    }
   },
   "source": [
    "# 596. Classes More Than 5 Students"
   ]
  },
  {
   "cell_type": "code",
   "execution_count": null,
   "metadata": {
    "collapsed": true,
    "nbpresent": {
     "id": "996f8936-7a55-470d-a41f-3bb307c7ed5e"
    }
   },
   "outputs": [],
   "source": [
    "Select class from courses\n",
    "group by class\n",
    "having count(Distinct student) >= 5"
   ]
  },
  {
   "cell_type": "markdown",
   "metadata": {
    "nbpresent": {
     "id": "0ebb64fc-7d0a-49e0-a96b-9d8d1ab8b6ae"
    }
   },
   "source": [
    "# 197. Rising Temperature"
   ]
  },
  {
   "cell_type": "markdown",
   "metadata": {
    "nbpresent": {
     "id": "75a9a4c3-371d-4673-973f-d59e49d536ae"
    }
   },
   "source": [
    "MySQL 日期函数"
   ]
  },
  {
   "cell_type": "code",
   "execution_count": null,
   "metadata": {
    "collapsed": true,
    "nbpresent": {
     "id": "321abf20-2ac7-4772-8ef0-d3e229d679cd"
    }
   },
   "outputs": [],
   "source": [
    "Select s1.Id from Weather as s1\n",
    "inner join Weather as s2\n",
    "on TO_DAYS(s1.RecordDate) = TO_DAYS(s2.RecordDate) + 1\n",
    "where s1.Temperature > s2.Temperature"
   ]
  },
  {
   "cell_type": "markdown",
   "metadata": {
    "nbpresent": {
     "id": "1130f8e9-5fcf-47d1-8a89-9f3b4a864cce"
    }
   },
   "source": [
    "# 178. Rank Scores"
   ]
  },
  {
   "cell_type": "code",
   "execution_count": null,
   "metadata": {
    "collapsed": true,
    "nbpresent": {
     "id": "f2a4323c-9c37-4b00-8553-823cad164004"
    }
   },
   "outputs": [],
   "source": [
    "Select s1.Score, s4.rank as Rank from Scores as s1\n",
    "inner join\n",
    "\n",
    "( Select s2.Score, count( Distinct s3.Score) as rank from Scores as s2\n",
    "inner join Scores as s3\n",
    "where s2.Score <= s3.Score \n",
    "group by s2.Score ) as s4\n",
    "on s1.Score = s4.Score\n",
    "\n",
    "order by s1.Score DESC"
   ]
  },
  {
   "cell_type": "markdown",
   "metadata": {
    "nbpresent": {
     "id": "12bd5924-8a06-4534-bbd7-d2d52a63da1b"
    }
   },
   "source": [
    "# 176. Second Highest Salary 👀"
   ]
  },
  {
   "cell_type": "code",
   "execution_count": null,
   "metadata": {
    "collapsed": true,
    "nbpresent": {
     "id": "ec947781-bfd5-42a8-9d47-d48b2dae11bc"
    }
   },
   "outputs": [],
   "source": [
    "Select max(Salary) as SecondHighestSalary\n",
    "from Employee\n",
    "where Salary < (Select max(Salary) from Employee)"
   ]
  }
 ],
 "metadata": {
  "anaconda-cloud": {},
  "kernelspec": {
   "display_name": "Python [default]",
   "language": "python",
   "name": "python2"
  },
  "language_info": {
   "codemirror_mode": {
    "name": "ipython",
    "version": 2
   },
   "file_extension": ".py",
   "mimetype": "text/x-python",
   "name": "python",
   "nbconvert_exporter": "python",
   "pygments_lexer": "ipython2",
   "version": "2.7.13"
  },
  "toc": {
   "base_numbering": 1,
   "nav_menu": {},
   "number_sections": true,
   "sideBar": true,
   "skip_h1_title": false,
   "title_cell": "Table of Contents",
   "title_sidebar": "Contents",
   "toc_cell": false,
   "toc_position": {
    "height": "calc(100% - 180px)",
    "left": "10px",
    "top": "150px",
    "width": "241px"
   },
   "toc_section_display": true,
   "toc_window_display": true
  }
 },
 "nbformat": 4,
 "nbformat_minor": 1
}
