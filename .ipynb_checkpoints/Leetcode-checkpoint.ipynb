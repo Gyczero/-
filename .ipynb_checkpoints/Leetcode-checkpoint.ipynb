{
 "cells": [
  {
   "cell_type": "code",
   "execution_count": 22,
   "metadata": {
    "collapsed": false
   },
   "outputs": [],
   "source": [
    "### 768\n",
    "\n",
    "### 两重循环遍历 String\n",
    "class Solution(object):\n",
    "    jewelsnum = 0\n",
    "    def numJewelsInStones(self, J, S):\n",
    "        \"\"\"\n",
    "        :type J: str\n",
    "        :type S: str\n",
    "        :rtype: int\n",
    "        \"\"\"\n",
    "        for i in J:\n",
    "            for j in S:\n",
    "                if i == j:\n",
    "                    self.jewelsnum += 1\n",
    "        return self.jewelsnum\n",
    "                 \n",
    "        \n",
    "## 【Python字符串】一重循环 + Python自带判断字符是否在字符串中\n",
    "class Solution(object):\n",
    "    jewelsnum = 0\n",
    "    def numJewelsInStones(self, J, S):\n",
    "        \"\"\"\n",
    "        :type J: str\n",
    "        :type S: str\n",
    "        :rtype: int\n",
    "        \"\"\"\n",
    "        for i in S:\n",
    "            if i in J: \n",
    "                    self.jewelsnum += 1\n",
    "        return self.jewelsnum\n",
    "    \n",
    "    \n",
    "## Python 自带函数，字符在字符串中出现的次数  S.count(i, start, end) \n",
    "## 自带函数统计"
   ]
  },
  {
   "cell_type": "code",
   "execution_count": 23,
   "metadata": {
    "collapsed": true
   },
   "outputs": [],
   "source": [
    "s = Solution()"
   ]
  },
  {
   "cell_type": "code",
   "execution_count": 24,
   "metadata": {
    "collapsed": false
   },
   "outputs": [
    {
     "name": "stdout",
     "output_type": "stream",
     "text": [
      "1\n"
     ]
    }
   ],
   "source": [
    "print s.numJewelsInStones('aac', 'AAAcBB')"
   ]
  },
  {
   "cell_type": "code",
   "execution_count": 63,
   "metadata": {
    "collapsed": false
   },
   "outputs": [],
   "source": [
    "### 最大二叉树\n",
    "### Definition for a binary tree node.\n",
    "### 简单递归构造二叉树 \n",
    "class TreeNode(object):\n",
    "    def __init__(self, x):\n",
    "        self.val = x\n",
    "        self.left = None\n",
    "        self.right = None            "
   ]
  },
  {
   "cell_type": "code",
   "execution_count": 73,
   "metadata": {
    "collapsed": false
   },
   "outputs": [],
   "source": [
    "class Solution(object):\n",
    "    def constructMaximumBinaryTree(self, nums):\n",
    "        \"\"\"\n",
    "        :type nums: List[int]\n",
    "        :rtype: TreeNode\n",
    "        \"\"\"\n",
    "        if nums:\n",
    "            tree = TreeNode(max(nums))\n",
    "            tree.left = self.constructMaximumBinaryTree(nums[0:nums.index(max(nums))])\n",
    "            tree.right = self.constructMaximumBinaryTree(nums[nums.index(max(nums))+1:])\n",
    "            return tree\n",
    "        else:\n",
    "            return None"
   ]
  },
  {
   "cell_type": "code",
   "execution_count": 74,
   "metadata": {
    "collapsed": true
   },
   "outputs": [],
   "source": [
    "s = Solution()"
   ]
  },
  {
   "cell_type": "code",
   "execution_count": 75,
   "metadata": {
    "collapsed": false
   },
   "outputs": [
    {
     "data": {
      "text/plain": [
       "<__main__.TreeNode at 0x104876490>"
      ]
     },
     "execution_count": 75,
     "metadata": {},
     "output_type": "execute_result"
    }
   ],
   "source": [
    "s.constructMaximumBinaryTree([3,2,1,6,0,5])"
   ]
  },
  {
   "cell_type": "code",
   "execution_count": null,
   "metadata": {
    "collapsed": true
   },
   "outputs": [],
   "source": [
    "### N皇后\n",
    "### 同一行、同一列、同一斜线不能互相攻击\n",
    "### DFS\n",
    "class Solution(object):\n",
    "    limitcol = []\n",
    "    def isCanPutchess(row):\n",
    "        for i in range(row):\n",
    "            if \n",
    "        \n",
    "    def putChess():\n",
    "        \n",
    "        \n",
    "    def totalNQueens(self, n):\n",
    "        \"\"\"\n",
    "        :type n: int\n",
    "        :rtype: int\n",
    "        \"\"\"\n",
    "        for i in range(n):\n",
    "            \n",
    "        \n"
   ]
  },
  {
   "cell_type": "code",
   "execution_count": 5,
   "metadata": {
    "collapsed": false
   },
   "outputs": [
    {
     "data": {
      "text/plain": [
       "97"
      ]
     },
     "execution_count": 5,
     "metadata": {},
     "output_type": "execute_result"
    }
   ],
   "source": [
    "ord('a')"
   ]
  },
  {
   "cell_type": "code",
   "execution_count": 28,
   "metadata": {
    "collapsed": true
   },
   "outputs": [],
   "source": [
    "# 709 【Python字符串】字符串变小\n",
    "class Solution(object):\n",
    "    def toLowerCase(self, str):\n",
    "        \"\"\"\n",
    "        :type str: str\n",
    "        :rtype: str\n",
    "        \"\"\"\n",
    "        return str.lower()\n",
    "\n",
    "\n",
    "    \n",
    "### 804 【Python字符串，类型转换】Morse code words\n",
    "class Solution(object):\n",
    "    codeStandard = [\".-\",\"-...\",\"-.-.\",\"-..\",\".\",\"..-.\",\"--.\",\"....\",\"..\",\".---\",\"-.-\",\".-..\",\"--\",\"-.\",\"---\",\".--.\",\"--.-\",\".-.\",\"...\",\"-\",\"..-\",\"...-\",\".--\",\"-..-\",\"-.--\",\"--..\"]\n",
    "    def uniqueMorseRepresentations(self, words):\n",
    "        \"\"\"\n",
    "        :type words: List[str]\n",
    "        :rtype: int\n",
    "        \"\"\"\n",
    "        morse_words = []\n",
    "        for word in words:\n",
    "            morse_code = ''\n",
    "            for j in word:\n",
    "                morse_code = morse_code + self.codeStandard[ord(j) - 97]\n",
    "            morse_words.append(morse_code)\n",
    "            \n",
    "        return len(set(morse_words))\n",
    "        "
   ]
  },
  {
   "cell_type": "code",
   "execution_count": 29,
   "metadata": {
    "collapsed": true
   },
   "outputs": [],
   "source": [
    "S = Solution()"
   ]
  },
  {
   "cell_type": "code",
   "execution_count": 30,
   "metadata": {
    "collapsed": false
   },
   "outputs": [
    {
     "data": {
      "text/plain": [
       "2"
      ]
     },
     "execution_count": 30,
     "metadata": {},
     "output_type": "execute_result"
    }
   ],
   "source": [
    "S.uniqueMorseRepresentations([\"gin\", \"zen\", \"gig\", \"msg\"])\n"
   ]
  },
  {
   "cell_type": "code",
   "execution_count": 31,
   "metadata": {
    "collapsed": false
   },
   "outputs": [],
   "source": [
    "### 461 汉明距离 Hamming Distance\n",
    "# 【Python 十进制转二进制操作】 bin\n",
    "# 【Python 异或操作】两个不同为1，相同为0\n",
    "# 【Python 字符串操作,1出现个数】\n",
    "\n",
    "class Solution(object):\n",
    "    def hammingDistance(self, x, y):\n",
    "        \"\"\"\n",
    "        :type x: int\n",
    "        :type y: int\n",
    "        :rtype: int\n",
    "        \"\"\"\n",
    "        return bin(x^y).count('1')\n",
    "        "
   ]
  },
  {
   "cell_type": "code",
   "execution_count": 36,
   "metadata": {
    "collapsed": false
   },
   "outputs": [],
   "source": [
    "### 832 翻转 时间太长\n",
    "class Solution(object):\n",
    "    def flipAndInvertImage(self, A):\n",
    "        \"\"\"\n",
    "        :type A: List[List[int]]\n",
    "        :rtype: List[List[int]]\n",
    "        \"\"\"\n",
    "        new_Image = []\n",
    "        for row in A:\n",
    "            new_list = []\n",
    "            row_list = list(reversed(row)) \n",
    "            for i in row_list:\n",
    "                new_list.append(1 - i)\n",
    "            new_Image.append(new_list)\n",
    "        \n",
    "        ##new_Image = 1 - new_Image  ## broadcasting\n",
    "        \n",
    "        return new_Image\n",
    "        \n",
    "### 832 翻转 一行 Python 列表表达式（重要）\n",
    "### Python Slice notation \n",
    "##  【a:b】 a =< < b \n",
    "##  【::-1】,将list翻转，默认【-1：-len - 1：-1】步长\n",
    "\n",
    "## Method 1\n",
    "\n",
    "# A = [ele[::-1] for ele in A]\n",
    "# return [[1 if sub_ele==0 else 0 for sub_ele in ele] for ele in A]\n",
    "\n",
    "## Method 2 合并\n",
    "class Solution(object):\n",
    "    def xxx(self, A):\n",
    "        \n",
    "        return [ [1 - i  for i in ele][::-1] for ele in A]\n",
    "    \n",
    "## 二维列表表达式 【【一维列表内容】 for 】\n"
   ]
  },
  {
   "cell_type": "code",
   "execution_count": 44,
   "metadata": {
    "collapsed": false
   },
   "outputs": [],
   "source": [
    "### 657 Judge Route Circle\n",
    "class Solution(object):\n",
    "    def judgeCircle(self, moves):\n",
    "        \"\"\"\n",
    "        :type moves: str\n",
    "        :rtype: bool\n",
    "        \"\"\"\n",
    "        sum1 = 0\n",
    "        sum2 = 0\n",
    "        for i in moves:\n",
    "            if i == 'D':\n",
    "                sum1 += 1\n",
    "            if i == 'U':\n",
    "                sum1 -= 1\n",
    "            if i == 'L':\n",
    "                sum2 += 1\n",
    "            if i == 'R':\n",
    "                sum2 -= 1\n",
    "        if (not sum1) & (not sum2):\n",
    "            return True\n",
    "        return False\n",
    "\n",
    "    \n",
    "### 更快方法，Python list计数 moves.count('D') D出现的次数"
   ]
  },
  {
   "cell_type": "code",
   "execution_count": 45,
   "metadata": {
    "collapsed": false
   },
   "outputs": [
    {
     "data": {
      "text/plain": [
       "False"
      ]
     },
     "execution_count": 45,
     "metadata": {},
     "output_type": "execute_result"
    }
   ],
   "source": [
    "s = Solution()\n",
    "s.judgeCircle('DD')"
   ]
  },
  {
   "cell_type": "code",
   "execution_count": 48,
   "metadata": {
    "collapsed": false
   },
   "outputs": [],
   "source": [
    "### 617 Merge Two trees\n",
    "# Definition for a binary tree node.\n",
    "# 递归\n",
    "## Python if逻辑表达 and/or/not\n",
    "## 类的函数内部调用 self.method\n",
    "\n",
    "class TreeNode(object):\n",
    "    def __init__(self, x):\n",
    "        self.val = x\n",
    "        self.left = None\n",
    "        self.right = None\n",
    "\n",
    "class Solution(object):\n",
    "    def mergeTrees(self, t1, t2):\n",
    "        \"\"\"\n",
    "        :type t1: TreeNode\n",
    "        :type t2: TreeNode\n",
    "        :rtype: TreeNode\n",
    "        \"\"\"\n",
    "        \n",
    "        new_tree = TreeNode(0)\n",
    "        if (t1 == None) and (t2 == None):\n",
    "            return None\n",
    "        elif t1 == None:\n",
    "            new_tree = t2\n",
    "        elif t2 == None:\n",
    "            new_tree = t1\n",
    "        else:\n",
    "            new_tree.val = t1.val + t2.val\n",
    "            new_tree.left = self.mergeTrees(t1.left, t2.left)\n",
    "            new_tree.right = self.mergeTrees(t1.right, t2.right)\n",
    "            \n",
    "        return new_tree\n",
    "        \n",
    "        "
   ]
  },
  {
   "cell_type": "code",
   "execution_count": null,
   "metadata": {
    "collapsed": true
   },
   "outputs": [],
   "source": [
    "### 852. Peak Index in a Mountain Array\n",
    "### list中的最大值 + 最大值坐标\n",
    "class Solution(object):\n",
    "    def peakIndexInMountainArray(self, A):\n",
    "        \"\"\"\n",
    "        :type A: List[int]\n",
    "        :rtype: int\n",
    "        \"\"\"\n",
    "        return A.index(max(A))\n",
    "        \n",
    "        "
   ]
  },
  {
   "cell_type": "code",
   "execution_count": null,
   "metadata": {
    "collapsed": true
   },
   "outputs": [],
   "source": [
    "### 627. Swap Salary\n",
    "### SQL 改, 交换，【同时进行】\n",
    "UPDATE table_name SET column1=value1,column2=value2,... WHERE some_column=some_value;\n",
    "\n",
    "# 查\n",
    "Select id, name, \n",
    "\n",
    "(Case sex\n",
    "when 'f' then 'm'\n",
    "when 'm' then 'f'\n",
    "else '0' \n",
    "end),\n",
    "\n",
    "salary from salary\n",
    "\n",
    "# 改\n",
    "\n",
    "Update salary #表  \n",
    "SET sex =  # 字段\n",
    "case sex   # case trick 返回值\n",
    "when 'f' then 'm'\n",
    "when 'm' then 'f'\n",
    "else '0' \n",
    "end "
   ]
  },
  {
   "cell_type": "code",
   "execution_count": 12,
   "metadata": {
    "collapsed": false
   },
   "outputs": [],
   "source": [
    "### 728. Self Dividing Numbers\n",
    "### Python 取余数操作, 类型转换\n",
    "### Python not > and > or\n",
    "### Juypter调试工具\n",
    "from ipdb import set_trace\n",
    "class Solution(object):\n",
    "    def selfDividingNumbers(self, left, right):\n",
    "        \"\"\"\n",
    "        :type left: int\n",
    "        :type right: int\n",
    "        :rtype: List[int]\n",
    "        \"\"\"\n",
    "        dividngNumbers = list()\n",
    "        for i in  range(left, right + 1):\n",
    "            strnumber = str(i)\n",
    "            flag = 1\n",
    "            for j in strnumber:\n",
    "                if (not int(j)) or (i % int(j) != 0):\n",
    "                    flag = 0\n",
    "                    break\n",
    "            if flag :\n",
    "                dividngNumbers.append(i)\n",
    "                \n",
    "        return dividngNumbers\n",
    "        \n"
   ]
  },
  {
   "cell_type": "code",
   "execution_count": 13,
   "metadata": {
    "collapsed": false
   },
   "outputs": [
    {
     "data": {
      "text/plain": [
       "[1, 2, 3, 4, 5, 6, 7, 8, 9, 11, 12, 15, 22]"
      ]
     },
     "execution_count": 13,
     "metadata": {},
     "output_type": "execute_result"
    }
   ],
   "source": [
    "s = Solution()\n",
    "s.selfDividingNumbers(1,22)"
   ]
  },
  {
   "cell_type": "code",
   "execution_count": 45,
   "metadata": {
    "collapsed": false
   },
   "outputs": [],
   "source": [
    "#### 867. Transpose Matrix 转置矩阵\n",
    "### 【Python range范围】\n",
    "### 【Python新建的list预先设置大小】 -- DataFrame pandas、numpy的好\n",
    "### xrange比range性能好，range 列表， xrange迭代器iteration -默认从0开始\n",
    "\n",
    "class Solution(object):\n",
    "    def transpose(self, A):\n",
    "        \"\"\"\n",
    "        :type A: List[List[int]]\n",
    "        :rtype: List[List[int]]\n",
    "        \"\"\"\n",
    "        \n",
    "        new_matrix = [ [1 for i in range(0,len(A))] for i in range(0, len(A[0]))]\n",
    "        print new_matrix\n",
    "        for i in range(0, len(A)):\n",
    "            for j in range(0,len(A[i])):\n",
    "                new_matrix[j][i] = A[i][j]\n",
    "                \n",
    "        return new_matrix\n",
    "    \n",
    "    \n",
    "### 优化：Python 列表表达式，从外到里两层for循环\n",
    "m = len(A)\n",
    "n = len(A(0))\n",
    "return [ [A[i][j] for  for i in xrange(m)] for j in xrange(n)]\n",
    "## = \n",
    "for j in xrange(n):\n",
    "    for i in xrange(m):\n",
    "#        给该行赋值。\n",
    "\n",
    "\n",
    "### 内置函数 zip（【】，【】）打包函数， zip（*A）转置 "
   ]
  },
  {
   "cell_type": "code",
   "execution_count": 46,
   "metadata": {
    "collapsed": false
   },
   "outputs": [
    {
     "name": "stdout",
     "output_type": "stream",
     "text": [
      "[[1], [1]]\n"
     ]
    },
    {
     "data": {
      "text/plain": [
       "[[3], [2]]"
      ]
     },
     "execution_count": 46,
     "metadata": {},
     "output_type": "execute_result"
    }
   ],
   "source": [
    "s = Solution()\n",
    "s.transpose([[3,2]])"
   ]
  },
  {
   "cell_type": "code",
   "execution_count": 48,
   "metadata": {
    "collapsed": false
   },
   "outputs": [],
   "source": [
    "### 561. Array Partition I\n",
    "### 排序方法：sorted（）， list.sort()\n",
    "### Python求和函数sum（）\n",
    "\n",
    "class Solution(object):\n",
    "    def arrayPairSum(self, nums):\n",
    "        \"\"\"\n",
    "        :type nums: List[int]\n",
    "        :rtype: int\n",
    "        \"\"\"\n",
    "        nums.sort()\n",
    "        sum = 0\n",
    "        for  i in xrange(0,len(nums),2):\n",
    "            sum = sum + nums[i]\n",
    "        return sum\n",
    "### ！！！！优化 灵活运用 Python切片方法 ，取出每次间隔为2的数求和，同样适用于字符串，翻转！\n",
    "### sum(nums[::2])"
   ]
  },
  {
   "cell_type": "code",
   "execution_count": 78,
   "metadata": {
    "collapsed": false
   },
   "outputs": [],
   "source": [
    "### 872. Leaf-Similar Trees\n",
    "# Definition for a binary tree node.\n",
    "### list c = a + b , a.append(b) 不同\n",
    "### + 和 extend直接原地加\n",
    "\n",
    "## 减少bug Line 18: TypeError: 'int' object is not iterable 类型之间的转化 list , int \n",
    "class TreeNode(object):\n",
    "    def __init__(self, x):\n",
    "        self.val = x\n",
    "        self.left = None\n",
    "        self.right = None\n",
    "\n",
    "class Solution(object):\n",
    "    \n",
    "    def allleaftlist(self, root):\n",
    "        '''\n",
    "        rtype:list\n",
    "        '''\n",
    "        leafnums = []\n",
    "        if root == None:\n",
    "            return leafnums\n",
    "        elif root.left == None and root.right == None:\n",
    "            leafnums.append(root.val)\n",
    "        else:\n",
    "            leafnums.extend(self.allleaftlist(root.left))\n",
    "            leafnums.extend(self.allleaftlist(root.right))\n",
    "            \n",
    "        return leafnums\n",
    "        \n",
    "    def leafSimilar(self, root1, root2):\n",
    "        \"\"\"\n",
    "        :type root1: TreeNode\n",
    "        :type root2: TreeNode\n",
    "        :rtype: bool\n",
    "        \"\"\"\n",
    "        if self.allleaftlist(root1) == self.allleaftlist(root2):\n",
    "            return True\n",
    "        return False\n",
    "    \n",
    "        \n",
    "        "
   ]
  },
  {
   "cell_type": "code",
   "execution_count": 82,
   "metadata": {
    "collapsed": false
   },
   "outputs": [],
   "source": [
    "## contest 876  Middle of the Linked List，链表的中间值\n",
    "# Definition for singly-linked list.\n",
    "class ListNode(object):\n",
    "    def __init__(self, x):\n",
    "        self.val = x\n",
    "        self.next = None\n",
    "\n",
    "class Solution(object):\n",
    "    def middleNode(self, head):\n",
    "        \"\"\"\n",
    "        :type head: ListNode\n",
    "        :rtype: ListNode\n",
    "        \"\"\"\n",
    "        link_length = 0\n",
    "        linkedNode = ListNode(0)  ### 初始化注意增加的参数\n",
    "        linkedNode = head \n",
    "        while(LinkedNode != None):\n",
    "            link_length += 1\n",
    "            linkedNode = LinkedNode.next\n",
    "        \n",
    "        middle = link_length / 2\n",
    "        i = 0\n",
    "        for i in range(middle):\n",
    "            head = head.next\n",
    "        return head\n",
    "        "
   ]
  },
  {
   "cell_type": "code",
   "execution_count": 87,
   "metadata": {
    "collapsed": false
   },
   "outputs": [],
   "source": [
    "### Contest 877. Stone Game\n",
    "### Python 列表\n",
    "### Trick Method1,数学分析\n",
    "\n",
    "\n",
    "【1，2，3，4，5，6】\n",
    "Alex is first to pick pile.\n",
    "piles.length is 偶数, and this lead to an interesting fact:\n",
    "Alex can always pick odd piles or always pick even piles!\n",
    "\n",
    "For example,\n",
    "If Alex wants to pick even indexed piles piles[0], piles[2], ....., piles[n-2],\n",
    "he picks first piles[0], then Lee can pick either piles[1] or piles[n - 1].\n",
    "Every turn, Alex can always pick even indexed piles and Lee can only pick odd indexed piles.\n",
    "\n",
    "In the description, we know that sum(piles) is odd.\n",
    "If sum(piles[even]) > sum(piles[odd]), Alex just picks all evens and wins.\n",
    "If sum(piles[even]) < sum(piles[odd]), Alex just picks all odds and wins.\n",
    "\n",
    "So, Alex always defeats Lee in this game.\n",
    "\n",
    "\n",
    "class Solution(object):\n",
    "    def stoneGame(self, piles):\n",
    "        \"\"\"\n",
    "        :type piles: List[int]\n",
    "        :rtype: bool\n",
    "        \"\"\"\n",
    "        \n",
    "        sumAlex = 0\n",
    "        sumLee = 0\n",
    "        \n",
    "        \n",
    "        while (len(piles) != 0):\n",
    "            \n",
    "            if piles[-1] >= piles[0]:\n",
    "                sumAlex += piles[-1]\n",
    "                del piles[-1]\n",
    "            else:\n",
    "                sumAlex += piles[0]\n",
    "                del piles[0]\n",
    "            \n",
    "            if piles[-1] >= piles[0]:\n",
    "                sumLee += piles[-1]\n",
    "                del piles[-1]\n",
    "            else:\n",
    "                sumLee += piles[0]\n",
    "                del piles[0]\n",
    "                \n",
    "        if sumAlex > sumLee:\n",
    "            return True\n",
    "        return False\n",
    "        "
   ]
  },
  {
   "cell_type": "code",
   "execution_count": 89,
   "metadata": {
    "collapsed": false
   },
   "outputs": [
    {
     "ename": "SyntaxError",
     "evalue": "invalid syntax (<ipython-input-89-1cae96a2cd12>, line 3)",
     "output_type": "error",
     "traceback": [
      "\u001b[0;36m  File \u001b[0;32m\"<ipython-input-89-1cae96a2cd12>\"\u001b[0;36m, line \u001b[0;32m3\u001b[0m\n\u001b[0;31m    先选择一个后的结果\u001b[0m\n\u001b[0m    ^\u001b[0m\n\u001b[0;31mSyntaxError\u001b[0m\u001b[0;31m:\u001b[0m invalid syntax\n"
     ]
    }
   ],
   "source": [
    "### DP method2，动态规划\n",
    "### 子问题重复求解 ++ dp = dp, dp\n",
    "先选择一个后的结果\n",
    "### 动态转移方程\n",
    "第一次选择i / j,\n",
    "dp的范围，子问题的范围\n",
    "目的dp[i][j]代表选择i，j时能够得到的最大的值\n",
    "                         对手子问题最大值           对手子问题最大值\n",
    "dp[i][j] = max(piles[i] - dp[i + 1][j], piles[j] - dp[i][j - 1])\n"
   ]
  },
  {
   "cell_type": "code",
   "execution_count": 94,
   "metadata": {
    "collapsed": false
   },
   "outputs": [],
   "source": [
    "def stoneGame(self, p):\n",
    "    n = len(p)\n",
    "    dp = [ [0] *n  for i  in range(n)]\n",
    "    \n",
    "    ## dp初始化,ii等于i\n",
    "    for i in range(n): dp[i][i] = p[i]\n",
    "    \n",
    "    \n",
    "    for d in range(1, n):    ###  1、根据动态转移方程   2、画图，已知的值可以得出的部分值，确定d,i范围  3、code\n",
    "        for i in range(n - d):\n",
    "            dp[i][i+d] = max(p[i] - dp[i + 1][i+d], p[i+d] - dp[i][i+d-1])\n",
    "                \n",
    "    return dp[0][-1] > 0"
   ]
  },
  {
   "cell_type": "code",
   "execution_count": 107,
   "metadata": {
    "collapsed": true
   },
   "outputs": [],
   "source": [
    "## 338 Counting Bits\n",
    "\n",
    "# O(n * sizeof(integer))\n",
    "class Solution(object):\n",
    "    def countBits(self, num):\n",
    "        \"\"\"\n",
    "        :type num: int\n",
    "        :rtype: List[int]\n",
    "        \"\"\"\n",
    "        binlist = []\n",
    "        for i in range(num + 1):\n",
    "            bini = bin(i)\n",
    "            binlist.append(bini.count('1'))\n",
    "        \n",
    "        return binlist\n",
    "     \n",
    "# Method 2   O(n)\n",
    "class Solution(object):\n",
    "    def countBits(self, num):\n",
    "        \"\"\"\n",
    "        :type num: int\n",
    "        :rtype: List[int]\n",
    "        \"\"\"\n",
    "        binlist = [0,1,1,2]\n",
    "        if not num:\n",
    "            return [0]\n",
    "        j = int(np.log2(num))                              # 使用log时注意极端情况,log 内的数值不能为0或-\n",
    "        for i in range(j - 1):\n",
    "            binlist = binlist + [i + 1 for i in binlist]   # 两个列表数据相append\n",
    "            \n",
    "        return binlist[:num + 1]\n",
    "## Python 列表表达式 [i+1 for i in init]"
   ]
  },
  {
   "cell_type": "markdown",
   "metadata": {
    "collapsed": false
   },
   "source": [
    "## 406 Queue Reconstruction by Height"
   ]
  },
  {
   "cell_type": "code",
   "execution_count": 61,
   "metadata": {
    "collapsed": false
   },
   "outputs": [],
   "source": [
    "#【贪心】 最矮的人，每一次都取最优的选择，拆解\n",
    "# Python 【二维列表排序，lambda表达式】  \n",
    "# Python 【新建一个list】\n",
    "# 小 -> 大 排序，每次插入需要留位置 & 判断是否相等\n",
    "\n",
    "class Solution(object):\n",
    "    def reconstructQueue(self, people):\n",
    "        \"\"\"\n",
    "        :type people: List[List[int]]\n",
    "        :rtype: List[List[int]]\n",
    "        \"\"\"\n",
    "        \n",
    "        people.sort(key = lambda x: x[0])\n",
    "        new_queue = [ [-1, -1] for i in xrange(len(people))]\n",
    "        for x in people:\n",
    "            count = x[1]\n",
    "            \n",
    "            for j in xrange (len(new_queue)):\n",
    "            \n",
    "                if not count:\n",
    "                    if new_queue[j][0] == -1:\n",
    "                        new_queue[j] = x\n",
    "                        break\n",
    "                    else:\n",
    "                        continue\n",
    "                else:\n",
    "                    if (new_queue[j][0] == -1) | (new_queue[j][0] == x[0]):\n",
    "                        count = count - 1\n",
    "                    else:\n",
    "                        continue\n",
    "\n",
    "        return new_queue\n",
    "    \n",
    "    \n",
    "# 优化 Python list insert方法\n",
    "# 大 -> 小排序，每次插入直接插入\n",
    "#【拆解】，每次都可以保证插入正确\n",
    "class Solution(object):\n",
    "    def reconstructQueue(self, people):\n",
    "        if not people:\n",
    "            return []\n",
    "        ordered_list = []\n",
    "        insertion_order = sorted(people, key = lambda (h,k): (-h, k))\n",
    "        for person in insertion_order:\n",
    "            ordered_list.insert(person[1], person)\n",
    "        return ordered_list"
   ]
  },
  {
   "cell_type": "code",
   "execution_count": 62,
   "metadata": {
    "collapsed": false
   },
   "outputs": [
    {
     "data": {
      "text/plain": [
       "[[5, 0], [7, 0], [5, 2], [6, 1], [4, 4], [7, 1]]"
      ]
     },
     "execution_count": 62,
     "metadata": {},
     "output_type": "execute_result"
    }
   ],
   "source": [
    "s = Solution()\n",
    "s.reconstructQueue([[7,0],[4,4],[7,1],[5,0],[6,1],[5,2]])"
   ]
  },
  {
   "cell_type": "code",
   "execution_count": null,
   "metadata": {
    "collapsed": true
   },
   "outputs": [],
   "source": []
  },
  {
   "cell_type": "code",
   "execution_count": null,
   "metadata": {
    "collapsed": true
   },
   "outputs": [],
   "source": []
  }
 ],
 "metadata": {
  "anaconda-cloud": {},
  "kernelspec": {
   "display_name": "Python [default]",
   "language": "python",
   "name": "python2"
  },
  "language_info": {
   "codemirror_mode": {
    "name": "ipython",
    "version": 2
   },
   "file_extension": ".py",
   "mimetype": "text/x-python",
   "name": "python",
   "nbconvert_exporter": "python",
   "pygments_lexer": "ipython2",
   "version": "2.7.13"
  },
  "toc": {
   "base_numbering": 1,
   "nav_menu": {},
   "number_sections": true,
   "sideBar": true,
   "skip_h1_title": false,
   "title_cell": "Table of Contents",
   "title_sidebar": "Contents",
   "toc_cell": false,
   "toc_position": {},
   "toc_section_display": true,
   "toc_window_display": false
  }
 },
 "nbformat": 4,
 "nbformat_minor": 1
}
