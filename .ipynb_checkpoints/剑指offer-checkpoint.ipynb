{
 "cells": [
  {
   "cell_type": "markdown",
   "metadata": {},
   "source": [
    "# 二维数组中查找"
   ]
  },
  {
   "cell_type": "code",
   "execution_count": 1,
   "metadata": {
    "code_folding": [],
    "collapsed": true
   },
   "outputs": [],
   "source": [
    "# 1、二维数组中查找\n",
    "# 【单个数组二分查找】\n",
    "# 【不用想得太复杂 + 1】\n",
    "\n",
    "# Method1：遍历 + 二分，n * logm\n",
    "# Method2：观察数据：规律，四个角的点，中心点：从左下角或者右上角开始\n",
    "\n",
    "# -*- coding:utf-8 -*-\n",
    "class Solution:\n",
    "    # array 二维列表\n",
    "    def Find(self, target, array):\n",
    "        # write code here\n",
    "        \n",
    "        i = len(array) - 1\n",
    "        j = 0\n",
    "        while((i >= 0) & (j <= len(array[i]) - 1)):    # 【边界问题】\n",
    "            \n",
    "            if array[i][j] == target:\n",
    "                return True\n",
    "            \n",
    "            elif array[i][j] > target:\n",
    "                i = i - 1\n",
    "            \n",
    "            elif array[i][j] < target:\n",
    "                j = j + 1\n",
    "\n",
    "        return False"
   ]
  },
  {
   "cell_type": "markdown",
   "metadata": {},
   "source": [
    "# 替换空格"
   ]
  },
  {
   "cell_type": "code",
   "execution_count": 2,
   "metadata": {
    "collapsed": true
   },
   "outputs": [],
   "source": [
    "# Method1: Python 【字符串替换函数replace】\n",
    "class Solution:\n",
    "    # s 源字符串\n",
    "    def replaceSpace(self, s):\n",
    "        # write code here\n",
    "        \n",
    "        s = s.replace(' ', '%20')\n",
    "        return s\n",
    "\n",
    "    \n",
    "# Method2 : 遍历\n",
    "class Solution:\n",
    "    # s 源字符串\n",
    "    def replaceSpace(self, s):\n",
    "        # write code here\n",
    "        \n",
    "        new_s =''\n",
    "        for character in s:\n",
    "            \n",
    "            if character == ' ':\n",
    "                new_s += '%20'\n",
    "            else:\n",
    "                new_s += character\n",
    "                \n",
    "        return new_s"
   ]
  },
  {
   "cell_type": "markdown",
   "metadata": {},
   "source": [
    "# 【链表】打印链表"
   ]
  },
  {
   "cell_type": "code",
   "execution_count": 3,
   "metadata": {
    "collapsed": false
   },
   "outputs": [],
   "source": [
    "# 3、打印链表\n",
    "\n",
    "# Method1: Python翻转list \n",
    "class Solution:\n",
    "    # 返回从尾部到头部的列表值序列，例如[1,2,3]\n",
    "    def printListFromTailToHead(self, listNode):\n",
    "        # write code here\n",
    "        values = []\n",
    "        while (listNode != None):\n",
    "            values.append(listNode.val)\n",
    "            listNode = listNode.next\n",
    "\n",
    "            \n",
    "        return values[::-1]\n",
    "\n",
    "# Method2：Python【递归】 print() + [listNode.val]"
   ]
  },
  {
   "cell_type": "markdown",
   "metadata": {},
   "source": [
    "## 【链表】中倒数结点 ✔️"
   ]
  },
  {
   "cell_type": "code",
   "execution_count": 4,
   "metadata": {
    "collapsed": true
   },
   "outputs": [],
   "source": [
    "# -*- coding:utf-8 -*-\n",
    "class ListNode:\n",
    "    def __init__(self, x):\n",
    "        self.val = x\n",
    "        self.next = None\n",
    "\n",
    "class Solution:\n",
    "    def FindKthToTail(self, head, k):\n",
    "        # write code here\n",
    "        \n",
    "        printlink = []\n",
    "        len = 0\n",
    "        \n",
    "        # 全面考虑所有的边界情况\n",
    "        if (head == None) | (k <= 0) :\n",
    "            return None\n",
    "        \n",
    "        while (head != None):\n",
    "            printlink.append(head)\n",
    "            head = head.next\n",
    "            len += 1\n",
    "        \n",
    "        if k > len :\n",
    "            return None\n",
    "        return printlink[-k]"
   ]
  },
  {
   "cell_type": "markdown",
   "metadata": {},
   "source": [
    "## 【链表】翻转 ✔️"
   ]
  },
  {
   "cell_type": "code",
   "execution_count": 5,
   "metadata": {
    "collapsed": false
   },
   "outputs": [],
   "source": [
    "class Solution:\n",
    "    # 返回ListNode\n",
    "    \n",
    "    def __init__(self, x):\n",
    "        self.val = x\n",
    "        self.next = None        \n",
    "        \n",
    "    def ReverseList(self, pHead):\n",
    "        # write code here\n",
    "        \n",
    "        if pHead == None:\n",
    "            return None\n",
    "        \n",
    "        pBefore = pHead\n",
    "        pHead = pHead.next\n",
    "        pBefore.next = None   # 第一个处理，pBefore.next = None\n",
    "        \n",
    "        while(pHead != None):\n",
    "            pAfter = pHead.next\n",
    "            pHead.next = pBefore\n",
    "            pBefore = pHead\n",
    "            pHead = pAfter\n",
    "            \n",
    "        return pBefore\n",
    " \n",
    "def constructList(nums):\n",
    "    \n",
    "    before = Solution(nums[0])\n",
    "    head = before\n",
    "    \n",
    "    for i in range(1, len(nums)):\n",
    "        \n",
    "        s = Solution(nums[i])\n",
    "        before.next = s\n",
    "        before = s\n",
    "        \n",
    "    return  head \n",
    "\n",
    "def printLinkList(head):\n",
    "    \n",
    "    while(head != None):\n",
    "        print head.val\n",
    "        head = head.next\n",
    "    "
   ]
  },
  {
   "cell_type": "code",
   "execution_count": 6,
   "metadata": {
    "collapsed": false
   },
   "outputs": [],
   "source": [
    "a = constructList([1,2,3,4,5])"
   ]
  },
  {
   "cell_type": "code",
   "execution_count": 7,
   "metadata": {
    "collapsed": false
   },
   "outputs": [],
   "source": [
    "b = constructList([4,5,8])"
   ]
  },
  {
   "cell_type": "code",
   "execution_count": 8,
   "metadata": {
    "collapsed": false
   },
   "outputs": [],
   "source": [
    "# printLinkList(a)"
   ]
  },
  {
   "cell_type": "code",
   "execution_count": 9,
   "metadata": {
    "collapsed": false
   },
   "outputs": [],
   "source": [
    "# s = Solution(1)"
   ]
  },
  {
   "cell_type": "code",
   "execution_count": 10,
   "metadata": {
    "collapsed": false
   },
   "outputs": [],
   "source": [
    "# m = s.ReverseList(a)"
   ]
  },
  {
   "cell_type": "code",
   "execution_count": 11,
   "metadata": {
    "collapsed": false
   },
   "outputs": [],
   "source": [
    "# printLinkList(m)"
   ]
  },
  {
   "cell_type": "markdown",
   "metadata": {},
   "source": [
    "## 【链表】合并排序链表"
   ]
  },
  {
   "cell_type": "code",
   "execution_count": 12,
   "metadata": {
    "collapsed": true
   },
   "outputs": [],
   "source": [
    "class Solution1:\n",
    "    # 返回合并后列表\n",
    "    def Merge(self, pHead1, pHead2):\n",
    "        # write code here\n",
    "        \n",
    "        pHead = Solution(1)\n",
    "        pALL = pHead\n",
    "        \n",
    "        while((pHead1 != None) or (pHead2 != None)):\n",
    "            if (pHead1 == None):\n",
    "                \n",
    "                pHead.next = pHead2\n",
    "                break\n",
    "                \n",
    "            elif(pHead2 == None):\n",
    "                \n",
    "                pHead.next = pHead1\n",
    "                break\n",
    "            \n",
    "            else:\n",
    "                if pHead1.val >= pHead2.val:\n",
    "                    \n",
    "                    pHead.next = pHead2\n",
    "                    pHead = pHead2\n",
    "                    pHead2 = pHead2.next\n",
    "                    \n",
    "                else:\n",
    "                    pHead.next = pHead1\n",
    "                    pHead = pHead1\n",
    "                    pHead1 = pHead1.next\n",
    "        \n",
    "        return pALL.next\n",
    "                "
   ]
  },
  {
   "cell_type": "code",
   "execution_count": 13,
   "metadata": {
    "collapsed": false
   },
   "outputs": [],
   "source": [
    "s = Solution1()"
   ]
  },
  {
   "cell_type": "markdown",
   "metadata": {},
   "source": [
    "# 【栈，队列】，两个栈实现一个队列"
   ]
  },
  {
   "cell_type": "code",
   "execution_count": 14,
   "metadata": {
    "collapsed": false
   },
   "outputs": [],
   "source": [
    "## 5、栈，队列，两个栈实现一个队列\n",
    "# 一个栈作进，一个栈作出\n",
    "# Python list删除一个元素 【remove值】 【pop返回被删除的元素，del按位删除】\n",
    "\n",
    "class Solution:\n",
    "    def __init__(self):\n",
    "        self.stackin = []\n",
    "        self.stackout = []\n",
    "    def push(self, node):\n",
    "        # write code here\n",
    "        self.stackin.append(node)\n",
    "    def pop(self):\n",
    "        if self.stackout == []:\n",
    "            self.stackout = self.stackin\n",
    "            self.stackin = []\n",
    "        \n",
    "        return self.stackout.pop(0)"
   ]
  },
  {
   "cell_type": "markdown",
   "metadata": {
    "collapsed": true
   },
   "source": [
    "## [栈】包含min函数的栈 ✔️"
   ]
  },
  {
   "cell_type": "code",
   "execution_count": 15,
   "metadata": {
    "collapsed": false
   },
   "outputs": [],
   "source": [
    "# 得到栈中所含最小元素的min函数 O(1) => 空间换时间\n",
    "\n",
    "class Solution:\n",
    "    stack = []\n",
    "    min_nums_stack = [float('inf')]\n",
    "    \n",
    "    \n",
    "    def push(self, node):\n",
    "        # write code here\n",
    "        \n",
    "        if node < self.min_nums_stack[-1]:\n",
    "            self.min_nums_stack.append(node)\n",
    "            \n",
    "        self.stack.append(node)\n",
    "        \n",
    "    def pop(self):\n",
    "        # write code here\n",
    "        if self.stack[-1] == self.min_nums_stack[-1]:\n",
    "            self.min_nums_stack.pop(-1)\n",
    "            \n",
    "        return self.stack.pop(-1)\n",
    "        \n",
    "    def top(self):\n",
    "        # write code here\n",
    "        return self.stack[-1]\n",
    "        \n",
    "    def min(self): \n",
    "        # write code here\n",
    "        return self.min_nums_stack[-1]\n",
    "        "
   ]
  },
  {
   "cell_type": "markdown",
   "metadata": {
    "collapsed": true
   },
   "source": [
    "## [栈】栈的压入，弹出序列\n"
   ]
  },
  {
   "cell_type": "code",
   "execution_count": 16,
   "metadata": {
    "collapsed": true
   },
   "outputs": [],
   "source": [
    "class Solution:\n",
    "    def IsPopOrder(self, pushV, popV):\n",
    "        # write code here\n",
    "        \n",
    "        new_stack = []\n",
    "        \n",
    "        for i in range(len(pushV)):\n",
    "            new_stack.append(pushV[i])\n",
    "            \n",
    "            while(new_stack[-1] == popV[0]):\n",
    "                \n",
    "                new_stack.pop(-1)\n",
    "                popV.pop(0)\n",
    "                if not popV:\n",
    "                    return True\n",
    "        return False"
   ]
  },
  {
   "cell_type": "markdown",
   "metadata": {},
   "source": [
    "# 旋转数组的最小数字"
   ]
  },
  {
   "cell_type": "code",
   "execution_count": 17,
   "metadata": {
    "collapsed": true
   },
   "outputs": [],
   "source": [
    "## 6、旋转数组的最小数字\n",
    "# 思路：二分查找： 循环 / 递归\n",
    "\n",
    "# -*- coding:utf-8 -*-\n",
    "class Solution:\n",
    "    def minNumberInRotateArray(self, rotateArray):\n",
    "        # write code here\n",
    "        \n",
    "        mid = (len(rotateArray) - 1) / 2\n",
    "        end = len(rotateArray)  -1\n",
    "        \n",
    "        if rotateArray == []:\n",
    "            return 0\n",
    "        \n",
    "        if mid == end:\n",
    "            return rotateArray[0]\n",
    "        \n",
    "        if rotateArray[mid] > rotateArray[end]:\n",
    "            return self.minNumberInRotateArray(rotateArray[mid + 1: end + 1])\n",
    "        else:\n",
    "            return self.minNumberInRotateArray(rotateArray[:mid + 1])\n",
    "        \n",
    "        \n"
   ]
  },
  {
   "cell_type": "code",
   "execution_count": 18,
   "metadata": {
    "collapsed": false
   },
   "outputs": [
    {
     "data": {
      "text/plain": [
       "1"
      ]
     },
     "execution_count": 18,
     "metadata": {},
     "output_type": "execute_result"
    }
   ],
   "source": [
    "s = Solution()\n",
    "s.minNumberInRotateArray([5,1,2,3,4])"
   ]
  },
  {
   "cell_type": "markdown",
   "metadata": {},
   "source": [
    "# 斐波那契数列"
   ]
  },
  {
   "cell_type": "code",
   "execution_count": 19,
   "metadata": {
    "collapsed": true
   },
   "outputs": [],
   "source": [
    "# 7、斐波那契数列\n",
    "# 1、递归 = 重复计算 -> 先进后出，先进的一层一直存储在栈空间中，容易栈溢出\n",
    "# 2、迭代循环， append  while(len(res) <= n)\n",
    "class Solution:\n",
    "    def Fibonacci(self, n):\n",
    "        # write code here\n",
    "        \n",
    "        res = [0, 1]\n",
    "        for i in range(2, n + 1):\n",
    "            res.append(res[-1] + res[-2])\n",
    "        return res[n]\n",
    "        \n",
    "        "
   ]
  },
  {
   "cell_type": "code",
   "execution_count": 20,
   "metadata": {
    "collapsed": false
   },
   "outputs": [
    {
     "data": {
      "text/plain": [
       "55"
      ]
     },
     "execution_count": 20,
     "metadata": {},
     "output_type": "execute_result"
    }
   ],
   "source": [
    "s = Solution()\n",
    "s.Fibonacci(10)"
   ]
  },
  {
   "cell_type": "markdown",
   "metadata": {},
   "source": [
    "# 跳台阶"
   ]
  },
  {
   "cell_type": "code",
   "execution_count": 21,
   "metadata": {
    "collapsed": true
   },
   "outputs": [],
   "source": [
    "# -*- coding:utf-8 -*-\n",
    "# 1、递归：目标项需要用到之前【固定】的项+，-，*，/得出\n",
    "# 2、迭代 同斐波那契数列\n",
    "class Solution:\n",
    "    def jumpFloor(self, number):\n",
    "        # write code here\n",
    "        \n",
    "        res = [1, 2]\n",
    "        while(len(res) < number):\n",
    "            res.append(res[-1] + res[-2])\n",
    "        return res[number - 1]"
   ]
  },
  {
   "cell_type": "markdown",
   "metadata": {},
   "source": [
    "# 变态跳台阶"
   ]
  },
  {
   "cell_type": "code",
   "execution_count": 22,
   "metadata": {
    "collapsed": true
   },
   "outputs": [],
   "source": [
    "# 1、递归：目标项需要用到之前【固定】的项+，-，*，/，sum，+1数得出\n",
    "# 2、迭代 同斐波那契数列\n",
    "class Solution:\n",
    "    def jumpFloorII(self, number):\n",
    "        # write code here\n",
    "        \n",
    "        res = [1, 2]\n",
    "        while(len(res) < number):\n",
    "            res.append(sum(res) + 1)\n",
    "        return res[number - 1]"
   ]
  },
  {
   "cell_type": "code",
   "execution_count": 23,
   "metadata": {
    "collapsed": false
   },
   "outputs": [
    {
     "data": {
      "text/plain": [
       "4"
      ]
     },
     "execution_count": 23,
     "metadata": {},
     "output_type": "execute_result"
    }
   ],
   "source": [
    "s = Solution()\n",
    "s.jumpFloorII(3)"
   ]
  },
  {
   "cell_type": "markdown",
   "metadata": {},
   "source": [
    "# 矩形覆盖"
   ]
  },
  {
   "cell_type": "code",
   "execution_count": 24,
   "metadata": {
    "collapsed": true
   },
   "outputs": [],
   "source": [
    "# -*- coding:utf-8 -*-\n",
    "class Solution:\n",
    "    def rectCover(self, number):\n",
    "        # write code here\n",
    "        \n",
    "        a = [0, 1, 2]\n",
    "        if number in [0, 1, 2]:\n",
    "            return a[number]\n",
    "        \n",
    "        for i in xrange(3, number + 1):\n",
    "            a.append(a[i - 1] + a[i - 2])\n",
    "            \n",
    "        return a[number]\n",
    "        "
   ]
  },
  {
   "cell_type": "code",
   "execution_count": 25,
   "metadata": {
    "collapsed": false
   },
   "outputs": [
    {
     "data": {
      "text/plain": [
       "3"
      ]
     },
     "execution_count": 25,
     "metadata": {},
     "output_type": "execute_result"
    }
   ],
   "source": [
    "s = Solution()\n",
    "s.rectCover(3)"
   ]
  },
  {
   "cell_type": "markdown",
   "metadata": {},
   "source": [
    "# 二进制"
   ]
  },
  {
   "cell_type": "code",
   "execution_count": 26,
   "metadata": {
    "collapsed": false
   },
   "outputs": [
    {
     "ename": "IndentationError",
     "evalue": "expected an indented block (<ipython-input-26-61ef74b68146>, line 6)",
     "output_type": "error",
     "traceback": [
      "\u001b[0;36m  File \u001b[0;32m\"<ipython-input-26-61ef74b68146>\"\u001b[0;36m, line \u001b[0;32m6\u001b[0m\n\u001b[0;31m    \u001b[0m\n\u001b[0m    ^\u001b[0m\n\u001b[0;31mIndentationError\u001b[0m\u001b[0;31m:\u001b[0m expected an indented block\n"
     ]
    }
   ],
   "source": [
    "# -*- coding:utf-8 -*-\n",
    "class Solution:\n",
    "    def NumberOf1(self, n):\n",
    "        # write code here\n",
    "        \n",
    "        "
   ]
  },
  {
   "cell_type": "code",
   "execution_count": null,
   "metadata": {
    "collapsed": false
   },
   "outputs": [],
   "source": [
    "bin(-6 + 2**32)"
   ]
  },
  {
   "cell_type": "code",
   "execution_count": null,
   "metadata": {
    "collapsed": true
   },
   "outputs": [],
   "source": [
    "# Python 次方 x ** y"
   ]
  },
  {
   "cell_type": "markdown",
   "metadata": {},
   "source": [
    "# 调整数组顺序"
   ]
  },
  {
   "cell_type": "code",
   "execution_count": null,
   "metadata": {
    "collapsed": true
   },
   "outputs": [],
   "source": [
    "# -*- coding:utf-8 -*-\n",
    "class Solution:\n",
    "    def reOrderArray(self, array):\n",
    "        # write code here\n",
    "        \n",
    "        odd =[]\n",
    "        ou = []\n",
    "        \n",
    "        for i in array:\n",
    "            if (i % 2) == 1:\n",
    "                odd.append(i)\n",
    "            else:\n",
    "                ou.append(i)\n",
    "        return odd + ou"
   ]
  },
  {
   "cell_type": "markdown",
   "metadata": {},
   "source": [
    "# 字符串的排列组合\n",
    "\n",
    "短路求值，前边为0后边不计算"
   ]
  },
  {
   "cell_type": "code",
   "execution_count": null,
   "metadata": {
    "collapsed": false
   },
   "outputs": [],
   "source": [
    "class Solution:\n",
    "    def Sum_Solution(self, n):\n",
    "        # write code here\n",
    "        return n and (n + self.Sum_Solution(n - 1))\n",
    "        "
   ]
  },
  {
   "cell_type": "markdown",
   "metadata": {},
   "source": [
    "# 【二叉树】，重建二叉树 -> 【递归】"
   ]
  },
  {
   "cell_type": "code",
   "execution_count": null,
   "metadata": {
    "collapsed": false
   },
   "outputs": [],
   "source": [
    "## 4、二叉树，重建二叉树 -> 【递归】\n",
    "\n",
    "'''遍历规则：\n",
    "前序：根 -> 左 -> 右\n",
    "中序：左 -> 根 -> 右\n",
    "后序：左 -> 右 -> 根\n",
    "'''\n",
    "\n",
    "# -*- coding:utf-8 -*-\n",
    "class TreeNode:\n",
    "    def __init__(self, x):\n",
    "        self.val = x\n",
    "        self.left = None\n",
    "        self.right = None\n",
    "\n",
    "class Solution:\n",
    "    # 返回构造的TreeNode根节点，前序和中序遍历序列\n",
    "    def reConstructBinaryTree(self, pre, tin):\n",
    "        # write code here\n",
    "        if pre == [] or tin == []:\n",
    "            return None\n",
    "        \n",
    "        root = TreeNode(pre[0])\n",
    "        rootIndex = tin.index(pre[0])\n",
    "        root.left = self.reConstructBinaryTree(pre[1: rootIndex + 1], tin[:rootIndex])\n",
    "        root.right = self.reConstructBinaryTree(pre[rootIndex + 1:], tin[rootIndex + 1:])\n",
    "        \n",
    "        return root"
   ]
  },
  {
   "cell_type": "code",
   "execution_count": null,
   "metadata": {
    "collapsed": false
   },
   "outputs": [],
   "source": [
    "s = Solution()\n",
    "qq = s.reConstructBinaryTree([10,5,7,12], [7,5,10,12])"
   ]
  },
  {
   "cell_type": "markdown",
   "metadata": {
    "collapsed": true
   },
   "source": [
    "## [二叉树] 判断B是不是A的子结构 ❌"
   ]
  },
  {
   "cell_type": "code",
   "execution_count": null,
   "metadata": {
    "collapsed": false
   },
   "outputs": [],
   "source": [
    "class TreeNode:\n",
    "    def __init__(self, x):\n",
    "        self.val = x\n",
    "        self.left = None\n",
    "        self.right = None\n",
    "\n",
    "class Solution:\n",
    "    \n",
    "    def isSubtree(self, root1, root2):\n",
    "        if root2 == None:\n",
    "            return True\n",
    "        if root1 == None:\n",
    "            return False\n",
    "        if root1.val != root2.val:\n",
    "            return False\n",
    "        \n",
    "        return self.isSubtree(root1.left, root2.left) & self.isSubtree(root1.right, root2.right)\n",
    "    \n",
    "    \n",
    "    def HasSubtree(self, pRoot1, pRoot2):\n",
    "        # write code here\n",
    "        \n",
    "        if (pRoot2 == None) | (pRoot1 == None):\n",
    "            return False\n",
    "        \n",
    "        \n",
    "        if pRoot1.val == pRoot2.val:\n",
    "            if self.isSubtree(pRoot1, pRoot2):\n",
    "                return True\n",
    "        \n",
    "        return self.HasSubtree(pRoot1.left, pRoot2) | self.HasSubtree(pRoot1.right, pRoot2)   "
   ]
  },
  {
   "cell_type": "markdown",
   "metadata": {
    "collapsed": true
   },
   "source": [
    "## [二叉树】镜像二叉树"
   ]
  },
  {
   "cell_type": "code",
   "execution_count": null,
   "metadata": {
    "collapsed": false
   },
   "outputs": [],
   "source": [
    "# 1、中序遍历列表倒序\n",
    "# 2、递归，🌲尽量递归\n",
    "\n",
    "\n",
    "class TreeNode:\n",
    "    def __init__(self, x):\n",
    "        self.val = x\n",
    "        self.left = None\n",
    "        self.right = None\n",
    "        \n",
    "class Solution:\n",
    "    \n",
    "    def Mirror(self, root):\n",
    "        # write code here\n",
    "        \n",
    "        if root == None:\n",
    "            return \n",
    "        \n",
    "        self.Mirror(root.left)\n",
    "        self.Mirror(root.right)\n",
    "        \n",
    "        # 核心\n",
    "        temp = root.left\n",
    "        root.left = root.right\n",
    "        root.right = temp\n",
    "        \n",
    "        return root   "
   ]
  },
  {
   "cell_type": "markdown",
   "metadata": {},
   "source": [
    "## 从上往下打印二叉树\n",
    "\n",
    "BFS一般用队列 Q = 【】\n",
    "\n",
    "取初始结点u，u进队\n",
    "\n",
    "Q非空：\n",
    "\n",
    "    第一个结点出队\n",
    "    \n",
    "    所有该结点的子结点进入队列"
   ]
  },
  {
   "cell_type": "code",
   "execution_count": null,
   "metadata": {
    "collapsed": false
   },
   "outputs": [],
   "source": [
    "class TreeNode:\n",
    "    def __init__(self, x):\n",
    "        self.val = x\n",
    "        self.left = None\n",
    "        self.right = None\n",
    "\n",
    "class Solution:\n",
    "    # 返回从上到下每个节点值列表，例：[1,2,3]\n",
    "    def PrintFromTopToBottom(self, root):\n",
    "        # write code here\n",
    "        \n",
    "        binarytreeNode = []\n",
    "        Queue = []\n",
    "        Queue.append(root)\n",
    "        while len(Queue):\n",
    "            \n",
    "            if Queue[0] == None:\n",
    "                Queue.pop(0)\n",
    "                continue\n",
    "                \n",
    "            Queue.append(Queue[0].left)\n",
    "            Queue.append(Queue[0].right)\n",
    "            binarytreeNode.append(Queue[0].val)\n",
    "            Queue.pop(0)\n",
    "        return binarytreeNode"
   ]
  },
  {
   "cell_type": "code",
   "execution_count": null,
   "metadata": {
    "collapsed": true
   },
   "outputs": [],
   "source": [
    "n = Solution()"
   ]
  },
  {
   "cell_type": "code",
   "execution_count": null,
   "metadata": {
    "collapsed": false
   },
   "outputs": [],
   "source": [
    "n.PrintFromTopToBottom(qq)"
   ]
  },
  {
   "cell_type": "markdown",
   "metadata": {},
   "source": [
    "## 二叉搜索树的后续遍历序列\n",
    "\n",
    "二叉搜索树（二叉查找树）：\n",
    "\n",
    "若它的左子树不空，则左子树上所有结点的值均小于它的根结点的值；\n",
    "\n",
    "若它的右子树不空，则右子树上所有结点的值均大于它的根结点的值"
   ]
  },
  {
   "cell_type": "code",
   "execution_count": null,
   "metadata": {
    "collapsed": false
   },
   "outputs": [],
   "source": [
    "# 递归 条件：二叉搜索树 \n",
    "class Solution:\n",
    "    def VerifySquenceOfBST(self, sequence):\n",
    "        # write code here\n",
    "        \n",
    "        if not len(sequence):\n",
    "            return False\n",
    "        \n",
    "        if len(sequence) in [1,2]:\n",
    "            return True\n",
    "            \n",
    "        # 遍历列表长度，选出比中间结点大的数\n",
    "        for i in range(len(sequence)):\n",
    "            if sequence[i] > sequence[-1]:\n",
    "                break\n",
    "                \n",
    "        # 确定右边都比中间结点大，是：继续 否：False\n",
    "        for j in range(i, len(sequence)):\n",
    "            if sequence[j] < sequence[-1]:\n",
    "                return False\n",
    "            \n",
    "        if (i == 0) or (i == len(sequence) -1 ):\n",
    "            return self.VerifySquenceOfBST(sequence[0:-1])\n",
    "        # 递归遍历左右子树\n",
    "        else:\n",
    "            return self.VerifySquenceOfBST(sequence[0:i]) and self.VerifySquenceOfBST(sequence[i:-1])\n",
    "        \n",
    "        # 极端情况处理：1、左右子树为空  2、sequence 小范围数量判断\n",
    "        "
   ]
  },
  {
   "cell_type": "code",
   "execution_count": null,
   "metadata": {
    "collapsed": false
   },
   "outputs": [],
   "source": [
    "s = Solution()"
   ]
  },
  {
   "cell_type": "code",
   "execution_count": null,
   "metadata": {
    "collapsed": false
   },
   "outputs": [],
   "source": [
    "s.VerifySquenceOfBST([1,2,3,4,5])"
   ]
  },
  {
   "cell_type": "markdown",
   "metadata": {
    "collapsed": true
   },
   "source": [
    "## 二叉树中和为某一值的路径 <时间长>"
   ]
  },
  {
   "cell_type": "code",
   "execution_count": null,
   "metadata": {
    "collapsed": false
   },
   "outputs": [],
   "source": [
    "class TreeNode:\n",
    "    def __init__(self, x):\n",
    "        self.val = x\n",
    "        self.left = None\n",
    "        self.right = None\n",
    "        \n",
    "class Solution1:\n",
    "    \n",
    "    def FindPath(self, root, expectNumber):\n",
    "        \n",
    "        if root == None:\n",
    "            return []\n",
    "        if root.val == expectNumber:\n",
    "            if root.left == None or root.right == None:  # 判断是否是叶子节点\n",
    "                return [[root.val]]\n",
    "            else:\n",
    "                return []\n",
    "        \n",
    "        leftList = self.FindPath(root.left, expectNumber - root.val)\n",
    "        rightList = self.FindPath(root.right, expectNumber - root.val)\n",
    "        allList = leftList + rightList\n",
    "        if len(allList) > 1:                            #  不同长度条件处理\n",
    "            sorted(allList, key=lambda x: len(x), reverse= True) \n",
    "        [i.insert(0, root.val) for i in allList]\n",
    "        return allList"
   ]
  },
  {
   "cell_type": "markdown",
   "metadata": {},
   "source": [
    "## 二叉树的深度"
   ]
  },
  {
   "cell_type": "code",
   "execution_count": null,
   "metadata": {
    "collapsed": true
   },
   "outputs": [],
   "source": [
    "class TreeNode:\n",
    "    def __init__(self, x):\n",
    "        self.val = x\n",
    "        self.left = None\n",
    "        self.right = None\n",
    "        \n",
    "class Solution:\n",
    "    def TreeDepth(self, pRoot):\n",
    "        # write code here\n",
    "        if pRoot == None:\n",
    "            return 0\n",
    "        if (pRoot.left == None) and (pRoot.right == None):\n",
    "            return 1\n",
    "        return max(self.TreeDepth(pRoot.left), self.TreeDepth(pRoot.right)) + 1"
   ]
  },
  {
   "cell_type": "markdown",
   "metadata": {},
   "source": [
    "# 排序算法"
   ]
  },
  {
   "cell_type": "markdown",
   "metadata": {},
   "source": [
    "## 冒泡排序"
   ]
  },
  {
   "cell_type": "code",
   "execution_count": null,
   "metadata": {
    "collapsed": false
   },
   "outputs": [],
   "source": [
    "import numpy as np\n",
    "a = np.random.randint(1,10,10)"
   ]
  },
  {
   "cell_type": "code",
   "execution_count": null,
   "metadata": {
    "collapsed": false
   },
   "outputs": [],
   "source": [
    "a"
   ]
  },
  {
   "cell_type": "code",
   "execution_count": null,
   "metadata": {
    "collapsed": true
   },
   "outputs": [],
   "source": [
    "def bubble(a):\n",
    "    for i in  range(len(a)):\n",
    "        for j in range(len(a) - i - 1):\n",
    "            if a[j] > a[j + 1]:\n",
    "                temp = a[j]\n",
    "                a[j] = a[j + 1]\n",
    "                a[j + 1] = temp\n",
    "    return a"
   ]
  },
  {
   "cell_type": "markdown",
   "metadata": {},
   "source": [
    "O(n^2)\n",
    "\n",
    "最好 O(n)"
   ]
  },
  {
   "cell_type": "markdown",
   "metadata": {},
   "source": [
    "## 插入排序"
   ]
  },
  {
   "cell_type": "code",
   "execution_count": null,
   "metadata": {
    "collapsed": true
   },
   "outputs": [],
   "source": [
    "def insertSort(a):\n",
    "    for i in range(1, len(a)):\n",
    "        for j in range(0, i):\n",
    "            if a[j] > a[i]:\n",
    "                a.insert(j, a.pop(i))\n",
    "                break\n",
    "    return a"
   ]
  },
  {
   "cell_type": "markdown",
   "metadata": {},
   "source": [
    "O(n ^ 2) \n",
    "\n",
    "最好O(n)"
   ]
  },
  {
   "cell_type": "code",
   "execution_count": 20,
   "metadata": {
    "collapsed": false
   },
   "outputs": [
    {
     "data": {
      "text/plain": [
       "[1, 7, 1, 6, 3, 8, 9, 4, 1, 2]"
      ]
     },
     "execution_count": 20,
     "metadata": {},
     "output_type": "execute_result"
    }
   ],
   "source": [
    "import numpy as np\n",
    "a = list(np.random.randint(1,10,10))\n",
    "a"
   ]
  },
  {
   "cell_type": "code",
   "execution_count": 5,
   "metadata": {
    "collapsed": false
   },
   "outputs": [
    {
     "ename": "NameError",
     "evalue": "name 'insertSort' is not defined",
     "output_type": "error",
     "traceback": [
      "\u001b[0;31m---------------------------------------------------------------------------\u001b[0m",
      "\u001b[0;31mNameError\u001b[0m                                 Traceback (most recent call last)",
      "\u001b[0;32m<ipython-input-5-fd7f73047a65>\u001b[0m in \u001b[0;36m<module>\u001b[0;34m()\u001b[0m\n\u001b[0;32m----> 1\u001b[0;31m \u001b[0minsertSort\u001b[0m\u001b[0;34m(\u001b[0m\u001b[0ma\u001b[0m\u001b[0;34m)\u001b[0m\u001b[0;34m\u001b[0m\u001b[0m\n\u001b[0m",
      "\u001b[0;31mNameError\u001b[0m: name 'insertSort' is not defined"
     ]
    }
   ],
   "source": [
    "insertSort(a)"
   ]
  },
  {
   "cell_type": "markdown",
   "metadata": {},
   "source": [
    "## 快速排序"
   ]
  },
  {
   "cell_type": "code",
   "execution_count": 66,
   "metadata": {
    "collapsed": false
   },
   "outputs": [],
   "source": [
    "def quickSort(a):\n",
    "    \n",
    "    if len(a) == 0:\n",
    "        return []\n",
    "    \n",
    "    base = a[0]\n",
    "    mid = 0\n",
    "    \n",
    "    for i in range(1,len(a)):\n",
    "        if a[i] < base:\n",
    "            a.insert(0, a.pop(i))\n",
    "            mid = mid + 1\n",
    "    \n",
    "    left = quickSort(a[0:mid])\n",
    "    right = quickSort(a[mid + 1:])\n",
    "    \n",
    "    return left + [base] + right"
   ]
  },
  {
   "cell_type": "code",
   "execution_count": 74,
   "metadata": {
    "collapsed": false
   },
   "outputs": [],
   "source": [
    "import numpy as np\n",
    "a = list(np.random.randint(1,100, 20))"
   ]
  },
  {
   "cell_type": "code",
   "execution_count": 75,
   "metadata": {
    "collapsed": false
   },
   "outputs": [
    {
     "data": {
      "text/plain": [
       "[38, 39, 93, 51, 92, 70, 55, 42, 25, 34, 38, 28, 16, 10, 70, 3, 76, 27, 37, 92]"
      ]
     },
     "execution_count": 75,
     "metadata": {},
     "output_type": "execute_result"
    }
   ],
   "source": [
    "a"
   ]
  },
  {
   "cell_type": "code",
   "execution_count": 76,
   "metadata": {
    "collapsed": false
   },
   "outputs": [
    {
     "data": {
      "text/plain": [
       "[3, 10, 16, 25, 27, 28, 34, 37, 38, 38, 39, 42, 51, 55, 70, 70, 76, 92, 92, 93]"
      ]
     },
     "execution_count": 76,
     "metadata": {},
     "output_type": "execute_result"
    }
   ],
   "source": [
    "quickSort(a)"
   ]
  },
  {
   "cell_type": "markdown",
   "metadata": {},
   "source": [
    "O(nlog2N)"
   ]
  },
  {
   "cell_type": "markdown",
   "metadata": {},
   "source": [
    "## 归并排序"
   ]
  },
  {
   "cell_type": "code",
   "execution_count": 21,
   "metadata": {
    "collapsed": false
   },
   "outputs": [],
   "source": [
    "def mergeSort(a):\n",
    "    if len(a) == 1:\n",
    "        return a\n",
    "    if len(a) == 0:\n",
    "        return []\n",
    "    \n",
    "    maxIndex = len(a)\n",
    "    left = mergeSort(a[0:maxIndex / 2])\n",
    "    right = mergeSort(a[maxIndex/2:len(a)])\n",
    "    leftIndex = 0\n",
    "    rightIndex = 0\n",
    "    newList = []\n",
    "    \n",
    "    while(len(newList) != len(a)):\n",
    "        if leftIndex == len(left):\n",
    "            newList = newList + right[rightIndex:]\n",
    "        elif rightIndex == len(right):\n",
    "            newList = newList + left[leftIndex: ]\n",
    "        elif left[leftIndex] >= right[rightIndex]:\n",
    "            newList.append(right[rightIndex])\n",
    "            rightIndex = rightIndex + 1\n",
    "        else:\n",
    "            newList.append(left[leftIndex])\n",
    "            leftIndex = leftIndex + 1\n",
    "            \n",
    "    return newList"
   ]
  },
  {
   "cell_type": "markdown",
   "metadata": {},
   "source": [
    "O(nlog2n)"
   ]
  },
  {
   "cell_type": "code",
   "execution_count": 22,
   "metadata": {
    "collapsed": false
   },
   "outputs": [
    {
     "data": {
      "text/plain": [
       "[1, 7, 1, 6, 3, 8, 9, 4, 1, 2]"
      ]
     },
     "execution_count": 22,
     "metadata": {},
     "output_type": "execute_result"
    }
   ],
   "source": [
    "a"
   ]
  },
  {
   "cell_type": "code",
   "execution_count": 23,
   "metadata": {
    "collapsed": false
   },
   "outputs": [
    {
     "data": {
      "text/plain": [
       "[1, 1, 1, 2, 3, 4, 6, 7, 8, 9]"
      ]
     },
     "execution_count": 23,
     "metadata": {},
     "output_type": "execute_result"
    }
   ],
   "source": [
    "mergeSort(a)"
   ]
  },
  {
   "cell_type": "markdown",
   "metadata": {},
   "source": [
    "# 查找算法"
   ]
  },
  {
   "cell_type": "markdown",
   "metadata": {},
   "source": [
    "## 二分查找"
   ]
  },
  {
   "cell_type": "code",
   "execution_count": 42,
   "metadata": {
    "code_folding": [],
    "collapsed": true
   },
   "outputs": [],
   "source": [
    "def binarySearch(a, num):\n",
    "    a = sorted(a)\n",
    "    i = 0\n",
    "    j = len(a) - 1 \n",
    "    while (i <= j):\n",
    "        mid = (j - i) / 2 + i\n",
    "        if num == a[mid]:\n",
    "            return mid\n",
    "        elif num > a[mid]:\n",
    "            i = mid + 1\n",
    "        else:\n",
    "            j = mid - 1\n",
    "    \n",
    "    return False  "
   ]
  },
  {
   "cell_type": "code",
   "execution_count": 43,
   "metadata": {
    "collapsed": true
   },
   "outputs": [],
   "source": [
    "a = [1,2,5,55,99,4,10]"
   ]
  },
  {
   "cell_type": "code",
   "execution_count": 46,
   "metadata": {
    "collapsed": false,
    "scrolled": true
   },
   "outputs": [
    {
     "data": {
      "text/plain": [
       "False"
      ]
     },
     "execution_count": 46,
     "metadata": {},
     "output_type": "execute_result"
    }
   ],
   "source": [
    "binarySearch(a, 999)"
   ]
  },
  {
   "cell_type": "markdown",
   "metadata": {},
   "source": [
    "O(log2N)"
   ]
  }
 ],
 "metadata": {
  "anaconda-cloud": {},
  "kernelspec": {
   "display_name": "Python [default]",
   "language": "python",
   "name": "python2"
  },
  "language_info": {
   "codemirror_mode": {
    "name": "ipython",
    "version": 2
   },
   "file_extension": ".py",
   "mimetype": "text/x-python",
   "name": "python",
   "nbconvert_exporter": "python",
   "pygments_lexer": "ipython2",
   "version": "2.7.6"
  },
  "toc": {
   "base_numbering": 1,
   "nav_menu": {},
   "number_sections": true,
   "sideBar": true,
   "skip_h1_title": false,
   "title_cell": "Table of Contents",
   "title_sidebar": "Contents",
   "toc_cell": false,
   "toc_position": {
    "height": "calc(100% - 180px)",
    "left": "10px",
    "top": "150px",
    "width": "205px"
   },
   "toc_section_display": true,
   "toc_window_display": true
  }
 },
 "nbformat": 4,
 "nbformat_minor": 1
}
